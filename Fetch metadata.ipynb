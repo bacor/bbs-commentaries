{
 "cells": [
  {
   "cell_type": "markdown",
   "id": "e233a2bd-8737-46a8-80e3-b095a85a7416",
   "metadata": {},
   "source": [
    "# Fetch metadata"
   ]
  },
  {
   "cell_type": "code",
   "execution_count": 1,
   "id": "8088d0b4-5c1c-4307-9cbe-53df8995d871",
   "metadata": {},
   "outputs": [],
   "source": [
    "import requests\n",
    "import json\n",
    "import time\n",
    "import pandas as pd"
   ]
  },
  {
   "cell_type": "code",
   "execution_count": 2,
   "id": "3da164cc-80b6-4de9-9173-e9317070bd07",
   "metadata": {},
   "outputs": [],
   "source": [
    "fn = 'app/src/data/responses.csv'\n",
    "df = pd.read_csv(fn)\n",
    "df['social-bonding'] = df['social-bonding'] - 3\n",
    "df['credible-signalling'] = df['credible-signaling'] - 3\n",
    "df['adequacy'] = df['adequacy'] - 3"
   ]
  },
  {
   "cell_type": "code",
   "execution_count": 3,
   "id": "e139e0af-4d3e-42b1-805b-dd60d6c6e7a5",
   "metadata": {},
   "outputs": [],
   "source": [
    "#https://gist.github.com/jrsmith3/5513926\n",
    "\n",
    "def doi2bib(doi):\n",
    "    \"\"\"\n",
    "    Return a bibTeX string of metadata for a given DOI.\n",
    "    \"\"\"\n",
    "    url = \"http://dx.doi.org/\" + doi\n",
    "    headers = {\"accept\": \"application/x-bibtex\"}\n",
    "    r = requests.get(url, headers = headers)\n",
    "    return r.text\n",
    "\n",
    "def doi2json(doi):\n",
    "    \"\"\"\n",
    "    Return a bibTeX string of metadata for a given DOI.\n",
    "    \"\"\"\n",
    "    url = \"http://dx.doi.org/\" + doi\n",
    "    headers = {\"accept\": \"application/json\"}\n",
    "    r = requests.get(url, headers = headers)\n",
    "    return json.loads(r.text)\n",
    "\n",
    "# entry = doi2json(df['doi'][0])"
   ]
  },
  {
   "cell_type": "code",
   "execution_count": 4,
   "id": "624ab41f-99a8-4fc4-8355-5111e0a720d5",
   "metadata": {},
   "outputs": [],
   "source": [
    "metadata_fn = 'app/src/data/metadata.json'\n",
    "with open(metadata_fn, 'r') as handle:\n",
    "    entries = json.load(handle)"
   ]
  },
  {
   "cell_type": "code",
   "execution_count": 5,
   "id": "74d20b6b-d660-47da-bf81-401878b4f70b",
   "metadata": {},
   "outputs": [
    {
     "name": "stdout",
     "output_type": "stream",
     "text": [
      "skipping 10.1017/S0140525X20001211\n",
      "skipping 10.1017/S0140525X20001715\n",
      "skipping 10.1017/S0140525X20001156\n",
      "skipping 10.1017/S0140525X20001120\n",
      "skipping 10.1017/S0140525X20001004\n",
      "skipping 10.1017/S0140525X2000103X\n",
      "skipping 10.1017/S0140525X20001090\n",
      "skipping 10.1017/S0140525X20001351\n",
      "skipping 10.1017/S0140525X20001429\n",
      "skipping 10.1017/S0140525X20001132\n",
      "skipping 10.1017/S0140525X2000134X\n",
      "skipping 10.1017/S0140525X20001168\n",
      "skipping 10.1017/s0140525x20001272\n",
      "skipping 10.1017/S0140525X20001466\n",
      "skipping 10.1017/S0140525X2000165X\n",
      "skipping 10.1017/S0140525X20001442\n",
      "skipping 10.1017/S0140525X20001247\n",
      "skipping 10.1017/S0140525X20001223\n",
      "skipping 10.1017/S0140525X20001193\n",
      "skipping 10.1017/S0140525X20001144\n",
      "skipping 10.1017/S0140525X2000148X\n",
      "skipping 10.1017/S0140525X20000680\n",
      "skipping 10.1017/S0140525X20001181\n",
      "skipping 10.1017/S0140525X20000679\n",
      "skipping 10.1017/S0140525X20001727\n",
      "skipping 10.1017/S0140525X20001235\n",
      "skipping 10.1017/S0140525X20001302\n",
      "skipping 10.1017/S0140525X20000746\n",
      "skipping 10.1017/S0140525X20001491\n",
      "skipping 10.1017/S0140525X20001314\n",
      "skipping 10.1017/S0140525X20001740\n",
      "skipping 10.1017/S0140525X20001697\n",
      "skipping 10.1017/S0140525X2000117X\n",
      "skipping 10.1017/S0140525X20001260\n",
      "skipping 10.1017/S0140525X20001089\n",
      "skipping 10.1017/S0140525X20000813\n",
      "skipping 10.1017/S0140525X20001326\n",
      "skipping 10.1017/S0140525X20001028\n",
      "skipping 10.1017/S0140525X20001478\n",
      "skipping 10.1017/S0140525X20000977\n",
      "skipping 10.1017/S0140525X20001338\n",
      "skipping 10.1017/S0140525X20001016\n",
      "skipping 10.1017/S0140525X20001363\n",
      "10.1017/S0140525X20001752\n"
     ]
    }
   ],
   "source": [
    "for doi in df['doi']:\n",
    "    if doi in entries: \n",
    "        print('skipping', doi)\n",
    "        continue\n",
    "    print(doi)\n",
    "    entries[doi] = doi2json(doi)\n",
    "    time.sleep(1)"
   ]
  },
  {
   "cell_type": "code",
   "execution_count": 6,
   "id": "5047ee37-7834-4542-aa3f-aa0dc8373f29",
   "metadata": {},
   "outputs": [
    {
     "data": {
      "text/plain": [
       "44"
      ]
     },
     "execution_count": 6,
     "metadata": {},
     "output_type": "execute_result"
    }
   ],
   "source": [
    "len(entries)"
   ]
  },
  {
   "cell_type": "code",
   "execution_count": 7,
   "id": "b995774a-91e0-4294-ab0c-d903df0b5038",
   "metadata": {},
   "outputs": [],
   "source": [
    "import re"
   ]
  },
  {
   "cell_type": "code",
   "execution_count": 8,
   "id": "82245fae-e087-46de-88c5-d5d9a921cf6a",
   "metadata": {},
   "outputs": [],
   "source": [
    "for doi, entry in entries.items():\n",
    "    abstract = entry['abstract']\n",
    "    abstract = abstract.replace('<jats:title>Abstract</jats:title>', '').strip()\n",
    "    abstract = re.sub('</?jats[^>]+>', '', abstract)\n",
    "    entries[doi]['abstract'] = abstract"
   ]
  },
  {
   "cell_type": "code",
   "execution_count": 9,
   "id": "85937e43-fade-494f-8fe0-9d5c53a84a0a",
   "metadata": {},
   "outputs": [],
   "source": [
    "with open(metadata_fn, 'w') as handle:\n",
    "    json.dump(entries, handle)"
   ]
  },
  {
   "cell_type": "code",
   "execution_count": null,
   "id": "c31bd3d1-4bf3-4a6d-8cad-40e2d7638346",
   "metadata": {},
   "outputs": [],
   "source": []
  }
 ],
 "metadata": {
  "kernelspec": {
   "display_name": "Python 3 (ipykernel)",
   "language": "python",
   "name": "python3"
  },
  "language_info": {
   "codemirror_mode": {
    "name": "ipython",
    "version": 3
   },
   "file_extension": ".py",
   "mimetype": "text/x-python",
   "name": "python",
   "nbconvert_exporter": "python",
   "pygments_lexer": "ipython3",
   "version": "3.7.6"
  }
 },
 "nbformat": 4,
 "nbformat_minor": 5
}
